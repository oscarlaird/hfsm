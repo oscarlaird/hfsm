{
 "cells": [
  {
   "cell_type": "code",
   "execution_count": 18,
   "metadata": {},
   "outputs": [
    {
     "name": "stdout",
     "output_type": "stream",
     "text": [
      "('Alice', '[\"Bob\", \"Charlie\", \"David\"]')\n",
      "('Bob', '[\"Alice\"]')\n",
      "('Charlie', '[\"Alice\"]')\n"
     ]
    },
    {
     "data": {
      "text/plain": [
       "[('Alice', 'Bob'),\n",
       " ('Alice', 'Charlie'),\n",
       " ('Alice', 'David'),\n",
       " ('Bob', 'Alice'),\n",
       " ('Charlie', 'Alice')]"
      ]
     },
     "execution_count": 18,
     "metadata": {},
     "output_type": "execute_result"
    }
   ],
   "source": [
    "import sqlite3\n",
    "import json\n",
    "\n",
    "# Connect to a SQLite database in memory\n",
    "conn = sqlite3.connect(':memory:')\n",
    "cursor = conn.cursor()\n",
    "\n",
    "# Create the original table\n",
    "cursor.execute('''\n",
    "    CREATE TABLE original_table (\n",
    "        name TEXT,\n",
    "        relations TEXT\n",
    "    )\n",
    "''')\n",
    "\n",
    "# Insert data into the original table\n",
    "# For simplicity, we use a small dataset\n",
    "data = [\n",
    "    ('Alice', json.dumps(['Bob', 'Charlie', 'David'])),\n",
    "    ('Bob', json.dumps(['Alice'])),\n",
    "    ('Charlie', json.dumps(['Alice']))\n",
    "]\n",
    "\n",
    "cursor.executemany('INSERT INTO original_table (name, relations) VALUES (?, ?)', data)\n",
    "\n",
    "# print the data from the original table to verify\n",
    "cursor.execute('SELECT * FROM original_table')\n",
    "original_data = cursor.fetchall()\n",
    "for row in original_data:\n",
    "    print(row)\n",
    "\n",
    "# Create the new 'relations' table\n",
    "cursor.execute('''\n",
    "    CREATE TABLE relations (\n",
    "        r1 TEXT,\n",
    "        r2 TEXT\n",
    "    )\n",
    "''')\n",
    "\n",
    "# Insert data into the 'relations' table by extracting pairs from the original table\n",
    "cursor.execute('''\n",
    "    INSERT INTO relations (r1, r2)\n",
    "    SELECT original_table.name, json_each.value\n",
    "    FROM original_table\n",
    "    CROSS JOIN json_each(original_table.relations)\n",
    "''')\n",
    "# WHERE o.name <> json_each.value\n",
    "\n",
    "# Fetch and print the data from the 'relations' table to verify\n",
    "cursor.execute('SELECT * FROM relations')\n",
    "relations_data = cursor.fetchall()\n",
    "\n",
    "relations_data\n",
    "\n"
   ]
  },
  {
   "cell_type": "code",
   "execution_count": 23,
   "metadata": {},
   "outputs": [
    {
     "data": {
      "text/plain": [
       "[('Alice', 'Bob'),\n",
       " ('Alice', 'Charlie'),\n",
       " ('Alice', 'David'),\n",
       " ('Bob', 'Alice'),\n",
       " ('Charlie', 'Alice')]"
      ]
     },
     "execution_count": 23,
     "metadata": {},
     "output_type": "execute_result"
    }
   ],
   "source": [
    "# select * from original_table\n",
    "query = \"\"\"\n",
    "SELECT original_table.name, json_each.value\n",
    "FROM original_table\n",
    "CROSS JOIN json_each(original_table.relations);\n",
    "\n",
    "\"\"\"\n",
    "cursor.execute(query).fetchall()"
   ]
  }
 ],
 "metadata": {
  "kernelspec": {
   "display_name": "hfsm-0EdPmVNd-py3.10",
   "language": "python",
   "name": "python3"
  },
  "language_info": {
   "codemirror_mode": {
    "name": "ipython",
    "version": 3
   },
   "file_extension": ".py",
   "mimetype": "text/x-python",
   "name": "python",
   "nbconvert_exporter": "python",
   "pygments_lexer": "ipython3",
   "version": "3.10.12"
  }
 },
 "nbformat": 4,
 "nbformat_minor": 2
}
