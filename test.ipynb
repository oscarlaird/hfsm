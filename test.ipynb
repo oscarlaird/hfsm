{
 "cells": [
  {
   "cell_type": "code",
   "execution_count": 1,
   "metadata": {},
   "outputs": [],
   "source": [
    "import evadb\n",
    "cursor = evadb.connect(evadb_dir=(\"./eva_db\")).cursor()"
   ]
  },
  {
   "cell_type": "code",
   "execution_count": 4,
   "metadata": {},
   "outputs": [
    {
     "data": {
      "text/html": [
       "<div>\n",
       "<style scoped>\n",
       "    .dataframe tbody tr th:only-of-type {\n",
       "        vertical-align: middle;\n",
       "    }\n",
       "\n",
       "    .dataframe tbody tr th {\n",
       "        vertical-align: top;\n",
       "    }\n",
       "\n",
       "    .dataframe thead th {\n",
       "        text-align: right;\n",
       "    }\n",
       "</style>\n",
       "<table border=\"1\" class=\"dataframe\">\n",
       "  <thead>\n",
       "    <tr style=\"text-align: right;\">\n",
       "      <th></th>\n",
       "      <th>_row_id</th>\n",
       "      <th>area</th>\n",
       "      <th>price</th>\n",
       "    </tr>\n",
       "  </thead>\n",
       "  <tbody>\n",
       "    <tr>\n",
       "      <th>0</th>\n",
       "      <td>1</td>\n",
       "      <td>30</td>\n",
       "      <td>300</td>\n",
       "    </tr>\n",
       "    <tr>\n",
       "      <th>1</th>\n",
       "      <td>2</td>\n",
       "      <td>35</td>\n",
       "      <td>350</td>\n",
       "    </tr>\n",
       "    <tr>\n",
       "      <th>2</th>\n",
       "      <td>3</td>\n",
       "      <td>37</td>\n",
       "      <td>370</td>\n",
       "    </tr>\n",
       "    <tr>\n",
       "      <th>3</th>\n",
       "      <td>4</td>\n",
       "      <td>40</td>\n",
       "      <td>400</td>\n",
       "    </tr>\n",
       "    <tr>\n",
       "      <th>4</th>\n",
       "      <td>5</td>\n",
       "      <td>45</td>\n",
       "      <td>450</td>\n",
       "    </tr>\n",
       "    <tr>\n",
       "      <th>5</th>\n",
       "      <td>6</td>\n",
       "      <td>50</td>\n",
       "      <td>500</td>\n",
       "    </tr>\n",
       "    <tr>\n",
       "      <th>6</th>\n",
       "      <td>7</td>\n",
       "      <td>55</td>\n",
       "      <td>550</td>\n",
       "    </tr>\n",
       "    <tr>\n",
       "      <th>7</th>\n",
       "      <td>8</td>\n",
       "      <td>60</td>\n",
       "      <td>600</td>\n",
       "    </tr>\n",
       "    <tr>\n",
       "      <th>8</th>\n",
       "      <td>9</td>\n",
       "      <td>65</td>\n",
       "      <td>650</td>\n",
       "    </tr>\n",
       "    <tr>\n",
       "      <th>9</th>\n",
       "      <td>10</td>\n",
       "      <td>70</td>\n",
       "      <td>700</td>\n",
       "    </tr>\n",
       "  </tbody>\n",
       "</table>\n",
       "</div>"
      ],
      "text/plain": [
       "   _row_id  area  price\n",
       "0        1    30    300\n",
       "1        2    35    350\n",
       "2        3    37    370\n",
       "3        4    40    400\n",
       "4        5    45    450\n",
       "5        6    50    500\n",
       "6        7    55    550\n",
       "7        8    60    600\n",
       "8        9    65    650\n",
       "9       10    70    700"
      ]
     },
     "execution_count": 4,
     "metadata": {},
     "output_type": "execute_result"
    }
   ],
   "source": [
    "cursor.query(\"\"\"\n",
    "DROP TABLE IF EXISTS houses\n",
    "\"\"\").df()\n",
    "cursor.query(\"\"\"\n",
    "CREATE TABLE houses (\n",
    "            area INTEGER,\n",
    "            price INTEGER\n",
    "            )\"\"\"\n",
    ").df()\n",
    "for area, price in zip([30, 35, 37, 40, 45, 50, 55, 60, 65, 70],\n",
    "                       [300, 350, 370, 400, 450, 500, 550, 600, 650, 700]):\n",
    "    cursor.query(\"\"\"\n",
    "    INSERT INTO houses (area, price) VALUES ({}, {})\n",
    "    \"\"\".format(area, price)).df()\n",
    "cursor.query(\"\"\"\n",
    "SELECT * FROM houses\n",
    "\"\"\").df()\n"
   ]
  },
  {
   "cell_type": "code",
   "execution_count": null,
   "metadata": {},
   "outputs": [],
   "source": [
    "# example\n",
    "# CREATE OR REPLACE FUNCTION PredictHouseRent FROM\n",
    "# ( SELECT number_of_rooms, number_of_bathrooms, days_on_market, rental_price FROM HomeRentals )\n",
    "# TYPE Sklearn\n",
    "# PREDICT 'rental_price';\n",
    "\n",
    "cursor.query(\"\"\"\n",
    "CREATE OR REPLACE FUNCTION PredictHouseRent FROM\n",
    "( SELECT area, price FROM houses )\n",
    "TYPE Sklearn\n",
    "PREDICT 'price';\n",
    "\"\"\").df()\n"
   ]
  },
  {
   "cell_type": "code",
   "execution_count": 9,
   "metadata": {},
   "outputs": [
    {
     "data": {
      "text/html": [
       "<div>\n",
       "<style scoped>\n",
       "    .dataframe tbody tr th:only-of-type {\n",
       "        vertical-align: middle;\n",
       "    }\n",
       "\n",
       "    .dataframe tbody tr th {\n",
       "        vertical-align: top;\n",
       "    }\n",
       "\n",
       "    .dataframe thead th {\n",
       "        text-align: right;\n",
       "    }\n",
       "</style>\n",
       "<table border=\"1\" class=\"dataframe\">\n",
       "  <thead>\n",
       "    <tr style=\"text-align: right;\">\n",
       "      <th></th>\n",
       "      <th>area</th>\n",
       "      <th>price</th>\n",
       "      <th>price</th>\n",
       "    </tr>\n",
       "  </thead>\n",
       "  <tbody>\n",
       "    <tr>\n",
       "      <th>0</th>\n",
       "      <td>30</td>\n",
       "      <td>300</td>\n",
       "      <td>325.370370</td>\n",
       "    </tr>\n",
       "    <tr>\n",
       "      <th>1</th>\n",
       "      <td>35</td>\n",
       "      <td>350</td>\n",
       "      <td>370.129630</td>\n",
       "    </tr>\n",
       "    <tr>\n",
       "      <th>2</th>\n",
       "      <td>37</td>\n",
       "      <td>370</td>\n",
       "      <td>370.129630</td>\n",
       "    </tr>\n",
       "    <tr>\n",
       "      <th>3</th>\n",
       "      <td>40</td>\n",
       "      <td>400</td>\n",
       "      <td>376.796296</td>\n",
       "    </tr>\n",
       "    <tr>\n",
       "      <th>4</th>\n",
       "      <td>45</td>\n",
       "      <td>450</td>\n",
       "      <td>417.222222</td>\n",
       "    </tr>\n",
       "    <tr>\n",
       "      <th>5</th>\n",
       "      <td>50</td>\n",
       "      <td>500</td>\n",
       "      <td>489.629630</td>\n",
       "    </tr>\n",
       "    <tr>\n",
       "      <th>6</th>\n",
       "      <td>55</td>\n",
       "      <td>550</td>\n",
       "      <td>539.814815</td>\n",
       "    </tr>\n",
       "    <tr>\n",
       "      <th>7</th>\n",
       "      <td>60</td>\n",
       "      <td>600</td>\n",
       "      <td>599.537037</td>\n",
       "    </tr>\n",
       "    <tr>\n",
       "      <th>8</th>\n",
       "      <td>65</td>\n",
       "      <td>650</td>\n",
       "      <td>634.722222</td>\n",
       "    </tr>\n",
       "    <tr>\n",
       "      <th>9</th>\n",
       "      <td>70</td>\n",
       "      <td>700</td>\n",
       "      <td>645.833333</td>\n",
       "    </tr>\n",
       "  </tbody>\n",
       "</table>\n",
       "</div>"
      ],
      "text/plain": [
       "   area  price       price\n",
       "0    30    300  325.370370\n",
       "1    35    350  370.129630\n",
       "2    37    370  370.129630\n",
       "3    40    400  376.796296\n",
       "4    45    450  417.222222\n",
       "5    50    500  489.629630\n",
       "6    55    550  539.814815\n",
       "7    60    600  599.537037\n",
       "8    65    650  634.722222\n",
       "9    70    700  645.833333"
      ]
     },
     "execution_count": 9,
     "metadata": {},
     "output_type": "execute_result"
    }
   ],
   "source": [
    "cursor.query(\"\"\"\n",
    "SELECT area, price, PredictHouseRent(area, price) FROM houses\n",
    "\"\"\").df()"
   ]
  },
  {
   "cell_type": "code",
   "execution_count": 19,
   "metadata": {},
   "outputs": [
    {
     "data": {
      "text/plain": [
       "ImagesResponse(created=1700947238, data=[Image(b64_json=None, revised_prompt=\"Create an imaginative banner showcasing the field of Deep Learning. The header should encompass the essence of the subject in a visually engaging manner. Visual elements could include neural networks branching out with different layers represented, an abstract representation of a deep learning model architecture or algorithms at work, students interacting with complex data and technology, and various scientific symbols. The color scheme can be based on electric blues, deep purples, vibrant greens, or any other palette that gives a feeling of advanced technology. Embed the course name 'Deep Learning' prominently in the center of the image.\", url='https://oaidalleapiprodscus.blob.core.windows.net/private/org-4K7HTKTulPjyLJIg8BfDLNHS/user-vPtmj6isZuiz3cJxP4a9MBZf/img-oEEKaEeSSRe5KsWB2MN9xHyC.png?st=2023-11-25T20%3A20%3A38Z&se=2023-11-25T22%3A20%3A38Z&sp=r&sv=2021-08-06&sr=b&rscd=inline&rsct=image/png&skoid=6aaadede-4fb3-4698-a8f6-684d7786b067&sktid=a48cca56-e6da-484e-a814-9c849652bcb3&skt=2023-11-25T12%3A31%3A28Z&ske=2023-11-26T12%3A31%3A28Z&sks=b&skv=2021-08-06&sig=4GA/XclV4ycau7pp8%2BtG4J5HoR6UF7B1BoxBaUhcGks%3D')])"
      ]
     },
     "execution_count": 19,
     "metadata": {},
     "output_type": "execute_result"
    }
   ],
   "source": [
    "from openai import OpenAI\n",
    "import dotenv\n",
    "dotenv.load_dotenv(dotenv.find_dotenv())\n",
    "client = OpenAI()\n",
    "\n",
    "style_prompt = \"I need a course header image with lots of visual interest symbolically depicting and visualizing the field of study. Course name: \"\n",
    "course_prompt = \"Deep Learning\"\n",
    "client.images.generate(\n",
    "  model=\"dall-e-3\",\n",
    "  prompt=style_prompt + course_prompt,\n",
    "  n=1,\n",
    "  size=\"1024x1024\",\n",
    ")\n",
    "# 7s    dalle-2 256x256\n",
    "# 10.5s dalle-3"
   ]
  },
  {
   "cell_type": "code",
   "execution_count": 27,
   "metadata": {},
   "outputs": [
    {
     "data": {
      "text/plain": [
       "'https://oaidalleapiprodscus.blob.core.windows.net/private/org-4K7HTKTulPjyLJIg8BfDLNHS/user-vPtmj6isZuiz3cJxP4a9MBZf/img-oEEKaEeSSRe5KsWB2MN9xHyC.png?st=2023-11-25T20%3A20%3A38Z&se=2023-11-25T22%3A20%3A38Z&sp=r&sv=2021-08-06&sr=b&rscd=inline&rsct=image/png&skoid=6aaadede-4fb3-4698-a8f6-684d7786b067&sktid=a48cca56-e6da-484e-a814-9c849652bcb3&skt=2023-11-25T12%3A31%3A28Z&ske=2023-11-26T12%3A31%3A28Z&sks=b&skv=2021-08-06&sig=4GA/XclV4ycau7pp8%2BtG4J5HoR6UF7B1BoxBaUhcGks%3D'"
      ]
     },
     "execution_count": 27,
     "metadata": {},
     "output_type": "execute_result"
    }
   ],
   "source": [
    "# bind output of prev cell\n",
    "out = Out[19]\n",
    "out.data[0].url\n"
   ]
  }
 ],
 "metadata": {
  "kernelspec": {
   "display_name": "hfsm-0EdPmVNd-py3.10",
   "language": "python",
   "name": "python3"
  },
  "language_info": {
   "codemirror_mode": {
    "name": "ipython",
    "version": 3
   },
   "file_extension": ".py",
   "mimetype": "text/x-python",
   "name": "python",
   "nbconvert_exporter": "python",
   "pygments_lexer": "ipython3",
   "version": "3.10.12"
  }
 },
 "nbformat": 4,
 "nbformat_minor": 2
}
